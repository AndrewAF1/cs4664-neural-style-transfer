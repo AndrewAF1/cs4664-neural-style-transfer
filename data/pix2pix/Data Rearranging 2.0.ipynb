{
 "cells": [
  {
   "cell_type": "markdown",
   "id": "22d4a444",
   "metadata": {},
   "source": [
    "## Rearranging NCDataset for the pytorch pix2pix colorization model\n",
    "I realized the pix2pix model in pytorch didn't require combining the images. Essentially, the model creates its own black and white version of the image, so the original dataset does not need to be paired. We just feed it the colored images. In this notebook, all I'm doing is combining all the fruit images into a train and test directory. I did not see anywhere in the documentation that they needed a validation directory, so I left that out. "
   ]
  },
  {
   "cell_type": "code",
   "execution_count": 28,
   "id": "c700aea9",
   "metadata": {},
   "outputs": [],
   "source": [
    "import os\n",
    "import shutil\n",
    "import math\n",
    "import random"
   ]
  },
  {
   "cell_type": "code",
   "execution_count": 29,
   "id": "d0526bfa",
   "metadata": {},
   "outputs": [
    {
     "name": "stdout",
     "output_type": "stream",
     "text": [
      "721\n"
     ]
    }
   ],
   "source": [
    "root = \"ncd\"\n",
    "domain = \"ColorfulOriginal\"\n",
    "src = os.path.join(root, domain)\n",
    "sub_directories = os.listdir(src)\n",
    "\n",
    "dest = \"color_all\"\n",
    "isDir = os.path.isdir(dest) \n",
    "if not isDir:\n",
    "    os.mkdir(dest) \n",
    "\n",
    "\n",
    "for d in sub_directories:\n",
    "    sub_directory = os.path.join(root, domain, d)\n",
    "    files = os.listdir(sub_directory)\n",
    "    for file in files:\n",
    "        file_name = os.path.join(sub_directory, file)\n",
    "        shutil.copy(file_name, dest)\n",
    "\n",
    "\n",
    "print(len(os.listdir(dest)))"
   ]
  },
  {
   "cell_type": "code",
   "execution_count": 30,
   "id": "b306bdde",
   "metadata": {},
   "outputs": [
    {
     "name": "stdout",
     "output_type": "stream",
     "text": [
      "Number of training samples: 577\n",
      "Number of testing samples: 144\n"
     ]
    }
   ],
   "source": [
    "train_ratio = 0.8 # percent used for training, rest used for testing\n",
    "\n",
    "files = os.listdir(\"color_all\")\n",
    "\n",
    "num_total = len(files)\n",
    "num_train = math.ceil(train_ratio * num_total)\n",
    "num_test = num_total - num_train\n",
    "\n",
    "print('Number of training samples:', num_train)\n",
    "print('Number of testing samples:', num_test)"
   ]
  },
  {
   "cell_type": "code",
   "execution_count": 31,
   "id": "18f48f49",
   "metadata": {},
   "outputs": [],
   "source": [
    "def loop_and_copy(num_files, files, src, dst, seed):\n",
    "    for i in range(num_files):\n",
    "    # choose randomly, seed for deterministic behavior\n",
    "        file = random.Random(seed).choice(files)\n",
    "        files.remove(file)\n",
    "        full_src_path = os.path.join(src, file)\n",
    "        isDir = os.path.isdir(dst) \n",
    "        if not isDir:\n",
    "            os.makedirs(dst) \n",
    "        shutil.copy(full_src_path, dst)"
   ]
  },
  {
   "cell_type": "code",
   "execution_count": 32,
   "id": "97acb1ff",
   "metadata": {},
   "outputs": [],
   "source": [
    "loop_and_copy(num_train, files, \"color_all\", \"ncdataset/train\", 200)\n",
    "loop_and_copy(num_test, files, \"color_all\", \"ncdataset/test\", 200)"
   ]
  },
  {
   "cell_type": "code",
   "execution_count": 33,
   "id": "0a1b54e4",
   "metadata": {},
   "outputs": [
    {
     "name": "stdout",
     "output_type": "stream",
     "text": [
      "0\n"
     ]
    }
   ],
   "source": [
    "print(len(files))"
   ]
  },
  {
   "cell_type": "code",
   "execution_count": 23,
   "id": "a6e90a0b",
   "metadata": {},
   "outputs": [],
   "source": [
    "# # cleaning up - ONLY RUN WHEN YOU WANT TO GENERATE NEW DATASET / WANT TO START OVER\n",
    "# paths = ['color_all', 'ncdataset']\n",
    "# for p in paths:\n",
    "#     path = p\n",
    "#     if os.path.exists(path):\n",
    "#         shutil.rmtree(path)"
   ]
  }
 ],
 "metadata": {
  "kernelspec": {
   "display_name": "Python 3 (ipykernel)",
   "language": "python",
   "name": "python3"
  },
  "language_info": {
   "codemirror_mode": {
    "name": "ipython",
    "version": 3
   },
   "file_extension": ".py",
   "mimetype": "text/x-python",
   "name": "python",
   "nbconvert_exporter": "python",
   "pygments_lexer": "ipython3",
   "version": "3.10.1"
  }
 },
 "nbformat": 4,
 "nbformat_minor": 5
}
