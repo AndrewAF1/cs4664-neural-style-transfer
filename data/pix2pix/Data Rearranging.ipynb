{
 "cells": [
  {
   "cell_type": "code",
   "execution_count": 2,
   "id": "ac79ec88",
   "metadata": {},
   "outputs": [],
   "source": [
    "import os\n",
    "import shutil"
   ]
  },
  {
   "cell_type": "markdown",
   "id": "b4fbbbfd",
   "metadata": {},
   "source": [
    "References: \n",
    "1. https://www.geeksforgeeks.org/python-move-all-files-from-subfolders-to-main-folder/\n",
    "2. https://stackoverflow.com/questions/123198/how-to-copy-files\n",
    "3. https://pypi.org/project/split-folders/\n",
    "4. https://www.geeksforgeeks.org/create-a-directory-in-python/\n",
    "5. https://www.geeksforgeeks.org/python-check-if-a-file-or-directory-exists-2/"
   ]
  },
  {
   "cell_type": "code",
   "execution_count": 3,
   "id": "e8635073",
   "metadata": {},
   "outputs": [
    {
     "name": "stdout",
     "output_type": "stream",
     "text": [
      "721\n"
     ]
    }
   ],
   "source": [
    "# DOMAIN B: COLOR \n",
    "root = \"ncd\"\n",
    "domain = \"ColorfulOriginal\"\n",
    "src = os.path.join(root, domain)\n",
    "sub_directories = os.listdir(src)\n",
    "\n",
    "dest = \"color_all\"\n",
    "isDir = os.path.isdir(dest) \n",
    "if not isDir:\n",
    "    os.mkdir(dest) \n",
    "\n",
    "\n",
    "for d in sub_directories:\n",
    "    sub_directory = os.path.join(root, domain, d)\n",
    "    files = os.listdir(sub_directory)\n",
    "    for file in files:\n",
    "        file_name = os.path.join(sub_directory, file)\n",
    "        shutil.copy(file_name, dest)\n",
    "\n",
    "\n",
    "print(len(os.listdir(dest)))"
   ]
  },
  {
   "cell_type": "code",
   "execution_count": 4,
   "id": "49c2ce6f",
   "metadata": {},
   "outputs": [
    {
     "name": "stdout",
     "output_type": "stream",
     "text": [
      "721\n",
      "15\n"
     ]
    }
   ],
   "source": [
    "# put them all in the same domain folder\n",
    "\n",
    "# DOMAIN A: GRAY \n",
    "root = \"ncd\"\n",
    "domain = \"Gray\"\n",
    "src = os.path.join(root, domain)\n",
    "sub_directories = os.listdir(src)\n",
    "\n",
    "dest = \"gray_all_paired\"\n",
    "isDir = os.path.isdir(dest) \n",
    "if not isDir:\n",
    "    os.mkdir(dest) \n",
    "\n",
    "\n",
    "for d in sub_directories:\n",
    "    sub_directory = os.path.join(root, domain, d)\n",
    "    files = os.listdir(sub_directory)\n",
    "    for file in files:\n",
    "        file_name = os.path.join(sub_directory, file)\n",
    "        # contains a pair in colored dataset\n",
    "        is_paired = os.path.isfile(os.path.join(\"color_all\", file))\n",
    "        if is_paired:\n",
    "            shutil.copy(file_name, dest)\n",
    "        else:\n",
    "\n",
    "            dest_alternate = \"gray_all_unpaired\"\n",
    "            isDir = os.path.isdir(dest_alternate) \n",
    "            if not isDir:\n",
    "                os.mkdir(dest_alternate) \n",
    "            shutil.copy(file_name, dest_alternate)\n",
    "\n",
    "print(len(os.listdir(dest)))\n",
    "print(len(os.listdir(dest_alternate)))"
   ]
  },
  {
   "cell_type": "code",
   "execution_count": 5,
   "id": "262ca20d",
   "metadata": {},
   "outputs": [],
   "source": [
    "# create directories\n",
    "# DOMAIN B: COLOR\n",
    "dests_color = [\"ncdataset/color/train\", \"ncdataset/color/test\", \"ncdataset/color/val\"]\n",
    "for d in dests_color:\n",
    "    isDir = os.path.isdir(d) \n",
    "    if not isDir:\n",
    "        os.makedirs(d) \n",
    "# DOMAIN A: GRAY       \n",
    "dests_gray = [\"ncdataset/gray/train\", \"ncdataset/gray/test\", \"ncdataset/gray/val\"]\n",
    "for d in dests_gray:\n",
    "    isDir = os.path.isdir(d) \n",
    "    if not isDir:\n",
    "        os.makedirs(d) "
   ]
  },
  {
   "cell_type": "code",
   "execution_count": 6,
   "id": "ca6c7690",
   "metadata": {},
   "outputs": [],
   "source": [
    "# NEED PAIRS FOR ALL (TEST, VAL, and TRAIN) SO COMMENTED THIS OUT\n",
    "# if they don't have a pair, then they are used for testing (15)\n",
    "# files = os.listdir(\"gray_all_unpaired\")\n",
    "# for file in files:\n",
    "#     path = os.path.join(\"gray_all_unpaired\", file)\n",
    "#     shutil.copy(path, dests_gray[1])"
   ]
  },
  {
   "cell_type": "markdown",
   "id": "06c7c5a8",
   "metadata": {},
   "source": [
    "Deleting existing files: https://stackoverflow.com/questions/185936/how-to-delete-the-contents-of-a-folder"
   ]
  },
  {
   "cell_type": "code",
   "execution_count": 7,
   "id": "ad1df886",
   "metadata": {},
   "outputs": [],
   "source": [
    "import glob \n",
    "\n",
    "# gets rid of all files in specified path\n",
    "def empty_directories(path_arr):\n",
    "    for path in path_arr:\n",
    "        files = glob.glob(os.path.join(path, '*'))\n",
    "        if len(files) > 0 :\n",
    "            for f in files:\n",
    "                os.remove(f)"
   ]
  },
  {
   "cell_type": "code",
   "execution_count": 22,
   "id": "88adc8a4",
   "metadata": {},
   "outputs": [],
   "source": [
    "def loop_and_copy(num_files, color_files, gray_files, dst_path_gray, dst_path_color):\n",
    "    for i in range(num_files):\n",
    "    # choose randomly, seed for deterministic behavior\n",
    "        color_file = random.Random(seed).choice(color_files)\n",
    "        gray_file = color_file\n",
    "\n",
    "        # account for discrepancies in capitalization\n",
    "        if gray_file not in gray_files:\n",
    "            if gray_file[0].isupper():\n",
    "                gray_file = gray_file.lower()\n",
    "                # print('lower', gray_file)\n",
    "            else:\n",
    "                gray_file = gray_file.capitalize()\n",
    "                # print('upper', gray_file)\n",
    "        # remove from list\n",
    "        color_files.remove(color_file)\n",
    "        gray_files.remove(gray_file)\n",
    "\n",
    "        path_gray = os.path.join(\"gray_all_paired\", gray_file)\n",
    "        path_color = os.path.join(\"color_all\", color_file)\n",
    "        # copy files in both directories\n",
    "        shutil.copy(path_gray, dst_path_gray)\n",
    "        shutil.copy(path_color, dst_path_color)"
   ]
  },
  {
   "cell_type": "markdown",
   "id": "dad4d9c3",
   "metadata": {},
   "source": [
    "Selecting a random file: https://stackoverflow.com/questions/25096158/copying-random-files-from-a-file-tree"
   ]
  },
  {
   "cell_type": "code",
   "execution_count": 23,
   "id": "c1b7568d",
   "metadata": {},
   "outputs": [
    {
     "name": "stdout",
     "output_type": "stream",
     "text": [
      "Number of training samples: 577\n",
      "Number of validation samples: 73\n",
      "Number of testing samples: 71\n"
     ]
    }
   ],
   "source": [
    "# put remaining 80% in train and 20% in val\n",
    "import random\n",
    "import math \n",
    "\n",
    "train_ratio = 0.8\n",
    "val_ratio = 0.1\n",
    "\n",
    "seed = 100\n",
    "\n",
    "files_color = os.listdir(\"color_all\")\n",
    "files_gray = os.listdir(\"gray_all_paired\")\n",
    "\n",
    "\n",
    "path_gray_train = \"ncdataset/gray/train\"\n",
    "path_color_train = \"ncdataset/color/train\"\n",
    "path_gray_val = \"ncdataset/gray/val\"\n",
    "path_color_val = \"ncdataset/color/val\"\n",
    "path_gray_test = \"ncdataset/gray/test\"\n",
    "path_color_test = \"ncdataset/color/test\"\n",
    "\n",
    "# make sure they are truly paired\n",
    "assert len(files_gray) == len(files_color) \n",
    "\n",
    "# empty destination directories if they aren't already   \n",
    "empty_directories(dests_color)\n",
    "empty_directories(dests_gray)\n",
    "\n",
    "# get necessary initial values\n",
    "num_total = len(files_color)\n",
    "num_train = math.ceil(train_ratio * num_total)\n",
    "num_val = math.ceil(val_ratio * num_total)\n",
    "num_test = num_total - (num_val + num_train)\n",
    "\n",
    "print('Number of training samples:', num_train)\n",
    "print('Number of validation samples:', num_val)\n",
    "print('Number of testing samples:', num_test)\n",
    "\n",
    "# loop and copy into each respective folder\n",
    "loop_and_copy(num_train, files_color, files_gray, path_gray_train, path_color_train)\n",
    "loop_and_copy(num_val, files_color, files_gray, path_gray_val, path_color_val)\n",
    "loop_and_copy(num_test, files_color, files_gray, path_gray_test, path_color_test)\n",
    "\n",
    "# len(files_gray)"
   ]
  },
  {
   "cell_type": "code",
   "execution_count": 24,
   "id": "24326d66",
   "metadata": {},
   "outputs": [],
   "source": [
    "# cleaning up\n",
    "paths = ['color_all', 'gray_all_paired']\n",
    "for p in paths:\n",
    "    path = p\n",
    "    if os.path.exists(path):\n",
    "        shutil.rmtree(path)"
   ]
  },
  {
   "cell_type": "code",
   "execution_count": null,
   "id": "d96e7260",
   "metadata": {},
   "outputs": [],
   "source": [
    "# was going to utilize this but not exactly what I want, could integrate it in future to lower the amount of work\n",
    "# import splitfolders\n",
    "\n",
    "# # Split with a ratio.\n",
    "# # To only split into training and validation set, set a tuple to `ratio`, i.e, `(.8, .2)`.\n",
    "# splitfolders.ratio(\"ncd/Gray\", output=\"out\",\n",
    "#     seed=1337, ratio=(.8, .2), group_prefix=None, move=False) # default values"
   ]
  }
 ],
 "metadata": {
  "kernelspec": {
   "display_name": "Python 3 (ipykernel)",
   "language": "python",
   "name": "python3"
  },
  "language_info": {
   "codemirror_mode": {
    "name": "ipython",
    "version": 3
   },
   "file_extension": ".py",
   "mimetype": "text/x-python",
   "name": "python",
   "nbconvert_exporter": "python",
   "pygments_lexer": "ipython3",
   "version": "3.10.1"
  }
 },
 "nbformat": 4,
 "nbformat_minor": 5
}
