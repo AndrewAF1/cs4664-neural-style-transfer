{
 "cells": [
  {
   "cell_type": "markdown",
   "id": "1ff33ee0",
   "metadata": {},
   "source": [
    "## Rearranging NCDataset for the pytorch pix2pix colorization model\n",
    "I realized the pix2pix model in pytorch didn't require combining the images. Essentially, the model creates its own black and white version of the image, so the original dataset does not need to be paired. We just feed it the colored images. In this notebook, all I'm doing is combining all the fruit images into a train and test directory. I did not see anywhere in the documentation that they needed a validation directory, so I left that out. "
   ]
  },
  {
   "cell_type": "code",
   "execution_count": 17,
   "id": "fc6f4b09",
   "metadata": {},
   "outputs": [],
   "source": [
    "import os\n",
    "import shutil\n",
    "import math\n",
    "import random"
   ]
  },
  {
   "cell_type": "code",
   "execution_count": 18,
   "id": "a843d3cd",
   "metadata": {},
   "outputs": [
    {
     "name": "stdout",
     "output_type": "stream",
     "text": [
      "721\n"
     ]
    }
   ],
   "source": [
    "root = \"ncd\"\n",
    "domain = \"ColorfulOriginal\"\n",
    "src = os.path.join(root, domain)\n",
    "sub_directories = os.listdir(src)\n",
    "\n",
    "dest = \"color_all\"\n",
    "isDir = os.path.isdir(dest) \n",
    "if not isDir:\n",
    "    os.mkdir(dest) \n",
    "\n",
    "\n",
    "for d in sub_directories:\n",
    "    sub_directory = os.path.join(root, domain, d)\n",
    "    files = os.listdir(sub_directory)\n",
    "    for file in files:\n",
    "        file_name = os.path.join(sub_directory, file)\n",
    "        shutil.copy(file_name, dest)\n",
    "\n",
    "\n",
    "print(len(os.listdir(dest)))"
   ]
  },
  {
   "cell_type": "code",
   "execution_count": 25,
   "id": "5b7c7261",
   "metadata": {},
   "outputs": [
    {
     "ename": "FileNotFoundError",
     "evalue": "[WinError 3] The system cannot find the path specified: 'color_all'",
     "output_type": "error",
     "traceback": [
      "\u001b[1;31m---------------------------------------------------------------------------\u001b[0m",
      "\u001b[1;31mFileNotFoundError\u001b[0m                         Traceback (most recent call last)",
      "\u001b[1;32m~\\AppData\\Local\\Temp/ipykernel_2896/891653300.py\u001b[0m in \u001b[0;36m<module>\u001b[1;34m\u001b[0m\n\u001b[0;32m      1\u001b[0m \u001b[0mtrain_ratio\u001b[0m \u001b[1;33m=\u001b[0m \u001b[1;36m0.8\u001b[0m \u001b[1;31m# percent used for training, rest used for testing\u001b[0m\u001b[1;33m\u001b[0m\u001b[1;33m\u001b[0m\u001b[0m\n\u001b[0;32m      2\u001b[0m \u001b[1;33m\u001b[0m\u001b[0m\n\u001b[1;32m----> 3\u001b[1;33m \u001b[0mfiles\u001b[0m \u001b[1;33m=\u001b[0m \u001b[0mos\u001b[0m\u001b[1;33m.\u001b[0m\u001b[0mlistdir\u001b[0m\u001b[1;33m(\u001b[0m\u001b[1;34m\"color_all\"\u001b[0m\u001b[1;33m)\u001b[0m\u001b[1;33m\u001b[0m\u001b[1;33m\u001b[0m\u001b[0m\n\u001b[0m\u001b[0;32m      4\u001b[0m \u001b[1;33m\u001b[0m\u001b[0m\n\u001b[0;32m      5\u001b[0m \u001b[0mnum_total\u001b[0m \u001b[1;33m=\u001b[0m \u001b[0mlen\u001b[0m\u001b[1;33m(\u001b[0m\u001b[0mfiles\u001b[0m\u001b[1;33m)\u001b[0m\u001b[1;33m\u001b[0m\u001b[1;33m\u001b[0m\u001b[0m\n",
      "\u001b[1;31mFileNotFoundError\u001b[0m: [WinError 3] The system cannot find the path specified: 'color_all'"
     ]
    }
   ],
   "source": [
    "train_ratio = 0.8 # percent used for training, rest used for testing\n",
    "\n",
    "files = os.listdir(\"color_all\")\n",
    "\n",
    "num_total = len(files)\n",
    "num_train = math.ceil(train_ratio * num_total)\n",
    "num_test = num_total - num_train\n",
    "\n",
    "print('Number of training samples:', num_train)\n",
    "print('Number of testing samples:', num_test)"
   ]
  },
  {
   "cell_type": "code",
   "execution_count": 24,
   "id": "f9073f87",
   "metadata": {},
   "outputs": [],
   "source": [
    "def loop_and_copy(num_files, files, src, dst, seed):\n",
    "    for i in range(num_files):\n",
    "    # choose randomly, seed for deterministic behavior\n",
    "        file = random.Random(seed).choice(files)\n",
    "        files.remove(file)\n",
    "        full_src_path = os.path.join(src, file)\n",
    "        isDir = os.path.isdir(dst) \n",
    "        if not isDir:\n",
    "            os.makedirs(dst) \n",
    "        shutil.copy(full_src_path, dst)"
   ]
  },
  {
   "cell_type": "code",
   "execution_count": 21,
   "id": "b2574381",
   "metadata": {},
   "outputs": [],
   "source": [
    "loop_and_copy(num_train, files, \"color_all\", \"ncdataset/train\", 200)\n",
    "loop_and_copy(num_test, files, \"color_all\", \"ncdataset/test\", 200)"
   ]
  },
  {
   "cell_type": "code",
   "execution_count": 22,
   "id": "47cf6478",
   "metadata": {},
   "outputs": [
    {
     "name": "stdout",
     "output_type": "stream",
     "text": [
      "0\n"
     ]
    }
   ],
   "source": [
    "print(len(files))"
   ]
  },
  {
   "cell_type": "code",
   "execution_count": 23,
   "id": "ff2480b6",
   "metadata": {},
   "outputs": [],
   "source": [
    "# # cleaning up - ONLY RUN WHEN YOU WANT TO GENERATE NEW DATASET / WANT TO START OVER\n",
    "# paths = ['color_all', 'ncdataset']\n",
    "# for p in paths:\n",
    "#     path = p\n",
    "#     if os.path.exists(path):\n",
    "#         shutil.rmtree(path)"
   ]
  }
 ],
 "metadata": {
  "kernelspec": {
   "display_name": "Python 3 (ipykernel)",
   "language": "python",
   "name": "python3"
  },
  "language_info": {
   "codemirror_mode": {
    "name": "ipython",
    "version": 3
   },
   "file_extension": ".py",
   "mimetype": "text/x-python",
   "name": "python",
   "nbconvert_exporter": "python",
   "pygments_lexer": "ipython3",
   "version": "3.10.1"
  }
 },
 "nbformat": 4,
 "nbformat_minor": 5
}
